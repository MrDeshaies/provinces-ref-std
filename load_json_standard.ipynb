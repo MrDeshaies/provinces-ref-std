{
 "metadata": {
  "language_info": {
   "codemirror_mode": {
    "name": "ipython",
    "version": 3
   },
   "file_extension": ".py",
   "mimetype": "text/x-python",
   "name": "python",
   "nbconvert_exporter": "python",
   "pygments_lexer": "ipython3",
   "version": "3.7.3"
  },
  "orig_nbformat": 2,
  "kernelspec": {
   "name": "python2716jvsc74a57bd0767d51c1340bd893661ea55ea3124f6de3c7a262a8b4abca0554b478b1e2ff90",
   "display_name": "Python 3.7.3 32-bit"
  }
 },
 "nbformat": 4,
 "nbformat_minor": 2,
 "cells": [
  {
   "cell_type": "code",
   "execution_count": null,
   "metadata": {},
   "outputs": [],
   "source": [
    "import pandas as pd\n",
    "import json\n",
    "\n",
    "with open('tbs-prov-std/587c76de-d250-41bb-b606-7dcc43a63d4f.json') as f:\n",
    "    prov_json = json.loads(f.read())\n",
    "\n",
    "# read the column names stored at fields.id\n",
    "column_names = pd.json_normalize(prov_json, record_path='fields')['id']"
   ]
  },
  {
   "cell_type": "code",
   "execution_count": null,
   "metadata": {},
   "outputs": [],
   "source": [
    "prov_df = pd.json_normalize(prov_json, record_path='records')\n",
    "prov_df.columns = column_names\n",
    "prov_df = prov_df.set_index('Code |Code')\n",
    "prov_df"
   ]
  },
  {
   "cell_type": "code",
   "execution_count": null,
   "metadata": {},
   "outputs": [],
   "source": [
    "# print the French name for QC\n",
    "prov_df.loc['QC']['Name in French |Nom en francais']"
   ]
  }
 ]
}