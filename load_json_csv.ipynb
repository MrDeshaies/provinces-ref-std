{
 "cells": [
  {
   "cell_type": "code",
   "execution_count": null,
   "metadata": {},
   "outputs": [],
   "source": [
    "import pandas as pd\n",
    "import json\n",
    "\n",
    "with open('tbs-prov-std/Canadian_prov_terr_du_Canada.json') as f:\n",
    "    prov_json = json.loads(f.read())\n",
    "\n",
    "# json contains $schema and data, we're interested in the latter.\n",
    "prov_df = pd.json_normalize(prov_json, record_path='data').set_index('code')\n",
    "prov_df\n"
   ]
  },
  {
   "cell_type": "code",
   "execution_count": null,
   "metadata": {},
   "outputs": [],
   "source": [
    "# print the French name for QC\n",
    "prov_df.loc['QC']['nm_fr']"
   ]
  },
  {
   "cell_type": "code",
   "execution_count": null,
   "metadata": {},
   "outputs": [],
   "source": [
    "# load the crosswalk, and merge with provinces\n",
    "with open('tbs-prov-std/crosswalk_prov_terr_correspondance.json') as f:\n",
    "    prov_crosswalk_json = json.loads(f.read())\n",
    "\n",
    "prov_crosswalk_df = pd.json_normalize(prov_crosswalk_json, record_path='data').set_index('code')\n",
    "prov_df = prov_df.join(prov_crosswalk_df)\n",
    "prov_df"
   ]
  },
  {
   "cell_type": "code",
   "execution_count": null,
   "metadata": {},
   "outputs": [],
   "source": [
    "# load a dataset on murder rates. it has columns:\n",
    "#    geo_code StatCan province code.\n",
    "#    UOM unit of measure description\n",
    "#    value murder rate per 100k, with 2 decimal points (e.g. 1.71)\n",
    "murder_df = pd.read_csv('sample_dataset_homicides.csv')\n",
    "murder_df.columns = murder_df.columns.str.lower() # no need to SCREAM\n",
    "murder_df = murder_df.set_index('geo_code')\n",
    "report = murder_df.join(prov_df.set_index('code_statcan'))\n",
    "report[['nm_en','nm_fr','value','uom']]"
   ]
  }
 ],
 "metadata": {
  "interpreter": {
   "hash": "31f2aee4e71d21fbe5cf8b01ff0e069b9275f58929596ceb00d14d90e3e16cd6"
  },
  "kernelspec": {
   "display_name": "Python 3.7.3 32-bit",
   "name": "python3"
  },
  "language_info": {
   "codemirror_mode": {
    "name": "ipython",
    "version": 3
   },
   "file_extension": ".py",
   "mimetype": "text/x-python",
   "name": "python",
   "nbconvert_exporter": "python",
   "pygments_lexer": "ipython3",
   "version": "3.7.3"
  },
  "orig_nbformat": 2
 },
 "nbformat": 4,
 "nbformat_minor": 2
}