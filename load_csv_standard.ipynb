{
 "metadata": {
  "language_info": {
   "codemirror_mode": {
    "name": "ipython",
    "version": 3
   },
   "file_extension": ".py",
   "mimetype": "text/x-python",
   "name": "python",
   "nbconvert_exporter": "python",
   "pygments_lexer": "ipython3",
   "version": "3.7.3-final"
  },
  "orig_nbformat": 2,
  "kernelspec": {
   "name": "python2716jvsc74a57bd0767d51c1340bd893661ea55ea3124f6de3c7a262a8b4abca0554b478b1e2ff90",
   "display_name": "Python 3.7.3 32-bit"
  }
 },
 "nbformat": 4,
 "nbformat_minor": 2,
 "cells": [
  {
   "cell_type": "code",
   "execution_count": 3,
   "metadata": {},
   "outputs": [
    {
     "output_type": "execute_result",
     "data": {
      "text/plain": [
       "                          nm_en                      nm_fr   ab_en     ab_fr\n",
       "code                                                                        \n",
       "NL    Newfoundland and Labrador    Terre-Neuve-et-Labrador    N.L.  T.-N.-L.\n",
       "PE         Prince Edward Island      Île-du-Prince-Édouard  P.E.I.  Î.-P.-É.\n",
       "NS                  Nova Scotia            Nouvelle-Écosse    N.S.     N.-É.\n",
       "NB                New Brunswick          Nouveau-Brunswick    N.B.     N.-B.\n",
       "QC                       Quebec                     Québec    Que.        Qc\n",
       "ON                      Ontario                    Ontario    Ont.      Ont.\n",
       "MB                     Manitoba                   Manitoba    Man.      Man.\n",
       "SK                 Saskatchewan               Saskatchewan   Sask.     Sask.\n",
       "AB                      Alberta                    Alberta   Alta.      Alb.\n",
       "BC             British Columbia       Colombie-Britannique    B.C.     C.-B.\n",
       "YT                        Yukon                      Yukon    Y.T.        Yn\n",
       "NT        Northwest Territories  Territoires du Nord-Ouest  N.W.T.   T.N.-O.\n",
       "NU                      Nunavut                    Nunavut    Nvt.        Nt"
      ],
      "text/html": "<div>\n<style scoped>\n    .dataframe tbody tr th:only-of-type {\n        vertical-align: middle;\n    }\n\n    .dataframe tbody tr th {\n        vertical-align: top;\n    }\n\n    .dataframe thead th {\n        text-align: right;\n    }\n</style>\n<table border=\"1\" class=\"dataframe\">\n  <thead>\n    <tr style=\"text-align: right;\">\n      <th></th>\n      <th>nm_en</th>\n      <th>nm_fr</th>\n      <th>ab_en</th>\n      <th>ab_fr</th>\n    </tr>\n    <tr>\n      <th>code</th>\n      <th></th>\n      <th></th>\n      <th></th>\n      <th></th>\n    </tr>\n  </thead>\n  <tbody>\n    <tr>\n      <th>NL</th>\n      <td>Newfoundland and Labrador</td>\n      <td>Terre-Neuve-et-Labrador</td>\n      <td>N.L.</td>\n      <td>T.-N.-L.</td>\n    </tr>\n    <tr>\n      <th>PE</th>\n      <td>Prince Edward Island</td>\n      <td>Île-du-Prince-Édouard</td>\n      <td>P.E.I.</td>\n      <td>Î.-P.-É.</td>\n    </tr>\n    <tr>\n      <th>NS</th>\n      <td>Nova Scotia</td>\n      <td>Nouvelle-Écosse</td>\n      <td>N.S.</td>\n      <td>N.-É.</td>\n    </tr>\n    <tr>\n      <th>NB</th>\n      <td>New Brunswick</td>\n      <td>Nouveau-Brunswick</td>\n      <td>N.B.</td>\n      <td>N.-B.</td>\n    </tr>\n    <tr>\n      <th>QC</th>\n      <td>Quebec</td>\n      <td>Québec</td>\n      <td>Que.</td>\n      <td>Qc</td>\n    </tr>\n    <tr>\n      <th>ON</th>\n      <td>Ontario</td>\n      <td>Ontario</td>\n      <td>Ont.</td>\n      <td>Ont.</td>\n    </tr>\n    <tr>\n      <th>MB</th>\n      <td>Manitoba</td>\n      <td>Manitoba</td>\n      <td>Man.</td>\n      <td>Man.</td>\n    </tr>\n    <tr>\n      <th>SK</th>\n      <td>Saskatchewan</td>\n      <td>Saskatchewan</td>\n      <td>Sask.</td>\n      <td>Sask.</td>\n    </tr>\n    <tr>\n      <th>AB</th>\n      <td>Alberta</td>\n      <td>Alberta</td>\n      <td>Alta.</td>\n      <td>Alb.</td>\n    </tr>\n    <tr>\n      <th>BC</th>\n      <td>British Columbia</td>\n      <td>Colombie-Britannique</td>\n      <td>B.C.</td>\n      <td>C.-B.</td>\n    </tr>\n    <tr>\n      <th>YT</th>\n      <td>Yukon</td>\n      <td>Yukon</td>\n      <td>Y.T.</td>\n      <td>Yn</td>\n    </tr>\n    <tr>\n      <th>NT</th>\n      <td>Northwest Territories</td>\n      <td>Territoires du Nord-Ouest</td>\n      <td>N.W.T.</td>\n      <td>T.N.-O.</td>\n    </tr>\n    <tr>\n      <th>NU</th>\n      <td>Nunavut</td>\n      <td>Nunavut</td>\n      <td>Nvt.</td>\n      <td>Nt</td>\n    </tr>\n  </tbody>\n</table>\n</div>"
     },
     "metadata": {},
     "execution_count": 3
    }
   ],
   "source": [
    "import pandas as pd\n",
    "\n",
    "prov_df = pd.read_csv('tbs-prov-std/Canadian_prov_terr_du_Canada.csv') \\\n",
    "    .set_index('code')\n",
    "prov_df"
   ]
  },
  {
   "cell_type": "code",
   "execution_count": 4,
   "metadata": {},
   "outputs": [
    {
     "output_type": "execute_result",
     "data": {
      "text/plain": [
       "                          nm_en                      nm_fr   ab_en     ab_fr  \\\n",
       "code                                                                           \n",
       "NL    Newfoundland and Labrador    Terre-Neuve-et-Labrador    N.L.  T.-N.-L.   \n",
       "PE         Prince Edward Island      Île-du-Prince-Édouard  P.E.I.  Î.-P.-É.   \n",
       "NS                  Nova Scotia            Nouvelle-Écosse    N.S.     N.-É.   \n",
       "NB                New Brunswick          Nouveau-Brunswick    N.B.     N.-B.   \n",
       "QC                       Quebec                     Québec    Que.        Qc   \n",
       "ON                      Ontario                    Ontario    Ont.      Ont.   \n",
       "MB                     Manitoba                   Manitoba    Man.      Man.   \n",
       "SK                 Saskatchewan               Saskatchewan   Sask.     Sask.   \n",
       "AB                      Alberta                    Alberta   Alta.      Alb.   \n",
       "BC             British Columbia       Colombie-Britannique    B.C.     C.-B.   \n",
       "YT                        Yukon                      Yukon    Y.T.        Yn   \n",
       "NT        Northwest Territories  Territoires du Nord-Ouest  N.W.T.   T.N.-O.   \n",
       "NU                      Nunavut                    Nunavut    Nvt.        Nt   \n",
       "\n",
       "      code_statcan code_iso cp_ab_pc  \n",
       "code                                  \n",
       "NL              10    CA-NL       NL  \n",
       "PE              11    CA-PE       PE  \n",
       "NS              12    CA-NS       NS  \n",
       "NB              13    CA-NB       NB  \n",
       "QC              24    CA-QC       QC  \n",
       "ON              35    CA-ON       ON  \n",
       "MB              46    CA-MB       MB  \n",
       "SK              47    CA-SK       SK  \n",
       "AB              48    CA-AB       AB  \n",
       "BC              59    CA-BC       BC  \n",
       "YT              60    CA-YT       YT  \n",
       "NT              61    CA-NT       NT  \n",
       "NU              62    CA-NU       NU  "
      ],
      "text/html": "<div>\n<style scoped>\n    .dataframe tbody tr th:only-of-type {\n        vertical-align: middle;\n    }\n\n    .dataframe tbody tr th {\n        vertical-align: top;\n    }\n\n    .dataframe thead th {\n        text-align: right;\n    }\n</style>\n<table border=\"1\" class=\"dataframe\">\n  <thead>\n    <tr style=\"text-align: right;\">\n      <th></th>\n      <th>nm_en</th>\n      <th>nm_fr</th>\n      <th>ab_en</th>\n      <th>ab_fr</th>\n      <th>code_statcan</th>\n      <th>code_iso</th>\n      <th>cp_ab_pc</th>\n    </tr>\n    <tr>\n      <th>code</th>\n      <th></th>\n      <th></th>\n      <th></th>\n      <th></th>\n      <th></th>\n      <th></th>\n      <th></th>\n    </tr>\n  </thead>\n  <tbody>\n    <tr>\n      <th>NL</th>\n      <td>Newfoundland and Labrador</td>\n      <td>Terre-Neuve-et-Labrador</td>\n      <td>N.L.</td>\n      <td>T.-N.-L.</td>\n      <td>10</td>\n      <td>CA-NL</td>\n      <td>NL</td>\n    </tr>\n    <tr>\n      <th>PE</th>\n      <td>Prince Edward Island</td>\n      <td>Île-du-Prince-Édouard</td>\n      <td>P.E.I.</td>\n      <td>Î.-P.-É.</td>\n      <td>11</td>\n      <td>CA-PE</td>\n      <td>PE</td>\n    </tr>\n    <tr>\n      <th>NS</th>\n      <td>Nova Scotia</td>\n      <td>Nouvelle-Écosse</td>\n      <td>N.S.</td>\n      <td>N.-É.</td>\n      <td>12</td>\n      <td>CA-NS</td>\n      <td>NS</td>\n    </tr>\n    <tr>\n      <th>NB</th>\n      <td>New Brunswick</td>\n      <td>Nouveau-Brunswick</td>\n      <td>N.B.</td>\n      <td>N.-B.</td>\n      <td>13</td>\n      <td>CA-NB</td>\n      <td>NB</td>\n    </tr>\n    <tr>\n      <th>QC</th>\n      <td>Quebec</td>\n      <td>Québec</td>\n      <td>Que.</td>\n      <td>Qc</td>\n      <td>24</td>\n      <td>CA-QC</td>\n      <td>QC</td>\n    </tr>\n    <tr>\n      <th>ON</th>\n      <td>Ontario</td>\n      <td>Ontario</td>\n      <td>Ont.</td>\n      <td>Ont.</td>\n      <td>35</td>\n      <td>CA-ON</td>\n      <td>ON</td>\n    </tr>\n    <tr>\n      <th>MB</th>\n      <td>Manitoba</td>\n      <td>Manitoba</td>\n      <td>Man.</td>\n      <td>Man.</td>\n      <td>46</td>\n      <td>CA-MB</td>\n      <td>MB</td>\n    </tr>\n    <tr>\n      <th>SK</th>\n      <td>Saskatchewan</td>\n      <td>Saskatchewan</td>\n      <td>Sask.</td>\n      <td>Sask.</td>\n      <td>47</td>\n      <td>CA-SK</td>\n      <td>SK</td>\n    </tr>\n    <tr>\n      <th>AB</th>\n      <td>Alberta</td>\n      <td>Alberta</td>\n      <td>Alta.</td>\n      <td>Alb.</td>\n      <td>48</td>\n      <td>CA-AB</td>\n      <td>AB</td>\n    </tr>\n    <tr>\n      <th>BC</th>\n      <td>British Columbia</td>\n      <td>Colombie-Britannique</td>\n      <td>B.C.</td>\n      <td>C.-B.</td>\n      <td>59</td>\n      <td>CA-BC</td>\n      <td>BC</td>\n    </tr>\n    <tr>\n      <th>YT</th>\n      <td>Yukon</td>\n      <td>Yukon</td>\n      <td>Y.T.</td>\n      <td>Yn</td>\n      <td>60</td>\n      <td>CA-YT</td>\n      <td>YT</td>\n    </tr>\n    <tr>\n      <th>NT</th>\n      <td>Northwest Territories</td>\n      <td>Territoires du Nord-Ouest</td>\n      <td>N.W.T.</td>\n      <td>T.N.-O.</td>\n      <td>61</td>\n      <td>CA-NT</td>\n      <td>NT</td>\n    </tr>\n    <tr>\n      <th>NU</th>\n      <td>Nunavut</td>\n      <td>Nunavut</td>\n      <td>Nvt.</td>\n      <td>Nt</td>\n      <td>62</td>\n      <td>CA-NU</td>\n      <td>NU</td>\n    </tr>\n  </tbody>\n</table>\n</div>"
     },
     "metadata": {},
     "execution_count": 4
    }
   ],
   "source": [
    "prov_crosswalk_df = pd.read_csv('tbs-prov-std/crosswalk-prov_terr-correspondance.csv') \\\n",
    "    .set_index('code')\n",
    "prov_df = prov_df.join(prov_crosswalk_df)\n",
    "prov_df"
   ]
  },
  {
   "cell_type": "code",
   "execution_count": 5,
   "metadata": {},
   "outputs": [
    {
     "output_type": "execute_result",
     "data": {
      "text/plain": [
       "                              nm_en                      nm_fr  value  \\\n",
       "geo_code                                                                \n",
       "10        Newfoundland and Labrador    Terre-Neuve-et-Labrador   0.96   \n",
       "11             Prince Edward Island      Île-du-Prince-Édouard   1.27   \n",
       "12                      Nova Scotia            Nouvelle-Écosse   0.62   \n",
       "13                    New Brunswick          Nouveau-Brunswick   1.93   \n",
       "24                           Quebec                     Québec   0.91   \n",
       "35                          Ontario                    Ontario   1.69   \n",
       "46                         Manitoba                   Manitoba   5.26   \n",
       "47                     Saskatchewan               Saskatchewan   4.68   \n",
       "48                          Alberta                    Alberta   2.29   \n",
       "59                 British Columbia       Colombie-Britannique   1.77   \n",
       "60                            Yukon                      Yukon   2.45   \n",
       "61            Northwest Territories  Territoires du Nord-Ouest   4.46   \n",
       "62                          Nunavut                    Nunavut  18.05   \n",
       "\n",
       "                                  uom  \n",
       "geo_code                               \n",
       "10        Rate per 100,000 population  \n",
       "11        Rate per 100,000 population  \n",
       "12        Rate per 100,000 population  \n",
       "13        Rate per 100,000 population  \n",
       "24        Rate per 100,000 population  \n",
       "35        Rate per 100,000 population  \n",
       "46        Rate per 100,000 population  \n",
       "47        Rate per 100,000 population  \n",
       "48        Rate per 100,000 population  \n",
       "59        Rate per 100,000 population  \n",
       "60        Rate per 100,000 population  \n",
       "61        Rate per 100,000 population  \n",
       "62        Rate per 100,000 population  "
      ],
      "text/html": "<div>\n<style scoped>\n    .dataframe tbody tr th:only-of-type {\n        vertical-align: middle;\n    }\n\n    .dataframe tbody tr th {\n        vertical-align: top;\n    }\n\n    .dataframe thead th {\n        text-align: right;\n    }\n</style>\n<table border=\"1\" class=\"dataframe\">\n  <thead>\n    <tr style=\"text-align: right;\">\n      <th></th>\n      <th>nm_en</th>\n      <th>nm_fr</th>\n      <th>value</th>\n      <th>uom</th>\n    </tr>\n    <tr>\n      <th>geo_code</th>\n      <th></th>\n      <th></th>\n      <th></th>\n      <th></th>\n    </tr>\n  </thead>\n  <tbody>\n    <tr>\n      <th>10</th>\n      <td>Newfoundland and Labrador</td>\n      <td>Terre-Neuve-et-Labrador</td>\n      <td>0.96</td>\n      <td>Rate per 100,000 population</td>\n    </tr>\n    <tr>\n      <th>11</th>\n      <td>Prince Edward Island</td>\n      <td>Île-du-Prince-Édouard</td>\n      <td>1.27</td>\n      <td>Rate per 100,000 population</td>\n    </tr>\n    <tr>\n      <th>12</th>\n      <td>Nova Scotia</td>\n      <td>Nouvelle-Écosse</td>\n      <td>0.62</td>\n      <td>Rate per 100,000 population</td>\n    </tr>\n    <tr>\n      <th>13</th>\n      <td>New Brunswick</td>\n      <td>Nouveau-Brunswick</td>\n      <td>1.93</td>\n      <td>Rate per 100,000 population</td>\n    </tr>\n    <tr>\n      <th>24</th>\n      <td>Quebec</td>\n      <td>Québec</td>\n      <td>0.91</td>\n      <td>Rate per 100,000 population</td>\n    </tr>\n    <tr>\n      <th>35</th>\n      <td>Ontario</td>\n      <td>Ontario</td>\n      <td>1.69</td>\n      <td>Rate per 100,000 population</td>\n    </tr>\n    <tr>\n      <th>46</th>\n      <td>Manitoba</td>\n      <td>Manitoba</td>\n      <td>5.26</td>\n      <td>Rate per 100,000 population</td>\n    </tr>\n    <tr>\n      <th>47</th>\n      <td>Saskatchewan</td>\n      <td>Saskatchewan</td>\n      <td>4.68</td>\n      <td>Rate per 100,000 population</td>\n    </tr>\n    <tr>\n      <th>48</th>\n      <td>Alberta</td>\n      <td>Alberta</td>\n      <td>2.29</td>\n      <td>Rate per 100,000 population</td>\n    </tr>\n    <tr>\n      <th>59</th>\n      <td>British Columbia</td>\n      <td>Colombie-Britannique</td>\n      <td>1.77</td>\n      <td>Rate per 100,000 population</td>\n    </tr>\n    <tr>\n      <th>60</th>\n      <td>Yukon</td>\n      <td>Yukon</td>\n      <td>2.45</td>\n      <td>Rate per 100,000 population</td>\n    </tr>\n    <tr>\n      <th>61</th>\n      <td>Northwest Territories</td>\n      <td>Territoires du Nord-Ouest</td>\n      <td>4.46</td>\n      <td>Rate per 100,000 population</td>\n    </tr>\n    <tr>\n      <th>62</th>\n      <td>Nunavut</td>\n      <td>Nunavut</td>\n      <td>18.05</td>\n      <td>Rate per 100,000 population</td>\n    </tr>\n  </tbody>\n</table>\n</div>"
     },
     "metadata": {},
     "execution_count": 5
    }
   ],
   "source": [
    "# load a dataset on murder rates. it has columns:\n",
    "#    geo_code StatCan province code.\n",
    "#    UOM unit of measure description\n",
    "#    value murder rate per 100k, with 2 decimal points (e.g. 1.71)\n",
    "murder_df = pd.read_csv('sample_dataset_homicides.csv')\n",
    "murder_df.columns = murder_df.columns.str.lower() # no need to SCREAM\n",
    "murder_df = murder_df.set_index('geo_code')\n",
    "report = murder_df.join(prov_df.set_index('code_statcan'))\n",
    "report[['nm_en','nm_fr','value','uom']]"
   ]
  }
 ]
}