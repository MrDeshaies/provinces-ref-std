{
 "metadata": {
  "language_info": {
   "codemirror_mode": {
    "name": "ipython",
    "version": 3
   },
   "file_extension": ".py",
   "mimetype": "text/x-python",
   "name": "python",
   "nbconvert_exporter": "python",
   "pygments_lexer": "ipython3",
   "version": "3.7.3-final"
  },
  "orig_nbformat": 2,
  "kernelspec": {
   "name": "python2716jvsc74a57bd0767d51c1340bd893661ea55ea3124f6de3c7a262a8b4abca0554b478b1e2ff90",
   "display_name": "Python 3.7.3 32-bit"
  }
 },
 "nbformat": 4,
 "nbformat_minor": 2,
 "cells": [
  {
   "cell_type": "code",
   "execution_count": 1,
   "metadata": {},
   "outputs": [
    {
     "output_type": "execute_result",
     "data": {
      "text/plain": [
       "                          nm_en                      nm_fr   ab_en     ab_fr\n",
       "code                                                                        \n",
       "NL    Newfoundland and Labrador    Terre-Neuve-et-Labrador    N.L.  T.-N.-L.\n",
       "PE         Prince Edward Island      Île-du-Prince-Édouard  P.E.I.  Î.-P.-É.\n",
       "NS                  Nova Scotia            Nouvelle-Écosse    N.S.     N.-É.\n",
       "NB                New Brunswick          Nouveau-Brunswick    N.B.     N.-B.\n",
       "QC                       Quebec                     Québec    Que.        Qc\n",
       "ON                      Ontario                    Ontario    Ont.      Ont.\n",
       "MB                     Manitoba                   Manitoba    Man.      Man.\n",
       "SK                 Saskatchewan               Saskatchewan   Sask.     Sask.\n",
       "AB                      Alberta                    Alberta   Alta.      Alb.\n",
       "BC             British Columbia       Colombie-Britannique    B.C.     C.-B.\n",
       "YT                        Yukon                      Yukon    Y.T.        Yn\n",
       "NT        Northwest Territories  Territoires du Nord-Ouest  N.W.T.   T.N.-O.\n",
       "NU                      Nunavut                    Nunavut    Nvt.        Nt"
      ],
      "text/html": "<div>\n<style scoped>\n    .dataframe tbody tr th:only-of-type {\n        vertical-align: middle;\n    }\n\n    .dataframe tbody tr th {\n        vertical-align: top;\n    }\n\n    .dataframe thead th {\n        text-align: right;\n    }\n</style>\n<table border=\"1\" class=\"dataframe\">\n  <thead>\n    <tr style=\"text-align: right;\">\n      <th></th>\n      <th>nm_en</th>\n      <th>nm_fr</th>\n      <th>ab_en</th>\n      <th>ab_fr</th>\n    </tr>\n    <tr>\n      <th>code</th>\n      <th></th>\n      <th></th>\n      <th></th>\n      <th></th>\n    </tr>\n  </thead>\n  <tbody>\n    <tr>\n      <th>NL</th>\n      <td>Newfoundland and Labrador</td>\n      <td>Terre-Neuve-et-Labrador</td>\n      <td>N.L.</td>\n      <td>T.-N.-L.</td>\n    </tr>\n    <tr>\n      <th>PE</th>\n      <td>Prince Edward Island</td>\n      <td>Île-du-Prince-Édouard</td>\n      <td>P.E.I.</td>\n      <td>Î.-P.-É.</td>\n    </tr>\n    <tr>\n      <th>NS</th>\n      <td>Nova Scotia</td>\n      <td>Nouvelle-Écosse</td>\n      <td>N.S.</td>\n      <td>N.-É.</td>\n    </tr>\n    <tr>\n      <th>NB</th>\n      <td>New Brunswick</td>\n      <td>Nouveau-Brunswick</td>\n      <td>N.B.</td>\n      <td>N.-B.</td>\n    </tr>\n    <tr>\n      <th>QC</th>\n      <td>Quebec</td>\n      <td>Québec</td>\n      <td>Que.</td>\n      <td>Qc</td>\n    </tr>\n    <tr>\n      <th>ON</th>\n      <td>Ontario</td>\n      <td>Ontario</td>\n      <td>Ont.</td>\n      <td>Ont.</td>\n    </tr>\n    <tr>\n      <th>MB</th>\n      <td>Manitoba</td>\n      <td>Manitoba</td>\n      <td>Man.</td>\n      <td>Man.</td>\n    </tr>\n    <tr>\n      <th>SK</th>\n      <td>Saskatchewan</td>\n      <td>Saskatchewan</td>\n      <td>Sask.</td>\n      <td>Sask.</td>\n    </tr>\n    <tr>\n      <th>AB</th>\n      <td>Alberta</td>\n      <td>Alberta</td>\n      <td>Alta.</td>\n      <td>Alb.</td>\n    </tr>\n    <tr>\n      <th>BC</th>\n      <td>British Columbia</td>\n      <td>Colombie-Britannique</td>\n      <td>B.C.</td>\n      <td>C.-B.</td>\n    </tr>\n    <tr>\n      <th>YT</th>\n      <td>Yukon</td>\n      <td>Yukon</td>\n      <td>Y.T.</td>\n      <td>Yn</td>\n    </tr>\n    <tr>\n      <th>NT</th>\n      <td>Northwest Territories</td>\n      <td>Territoires du Nord-Ouest</td>\n      <td>N.W.T.</td>\n      <td>T.N.-O.</td>\n    </tr>\n    <tr>\n      <th>NU</th>\n      <td>Nunavut</td>\n      <td>Nunavut</td>\n      <td>Nvt.</td>\n      <td>Nt</td>\n    </tr>\n  </tbody>\n</table>\n</div>"
     },
     "metadata": {},
     "execution_count": 1
    }
   ],
   "source": [
    "import pandas as pd\n",
    "\n",
    "prov_df = pd.read_csv('tbs-prov-std/Canadian_prov_terr_du_Canada.csv') \\\n",
    "    .set_index('code')\n",
    "prov_df"
   ]
  },
  {
   "cell_type": "code",
   "execution_count": 2,
   "metadata": {},
   "outputs": [
    {
     "output_type": "execute_result",
     "data": {
      "text/plain": [
       "                          nm_en                      nm_fr   ab_en     ab_fr  \\\n",
       "code                                                                           \n",
       "NL    Newfoundland and Labrador    Terre-Neuve-et-Labrador    N.L.  T.-N.-L.   \n",
       "PE         Prince Edward Island      Île-du-Prince-Édouard  P.E.I.  Î.-P.-É.   \n",
       "NS                  Nova Scotia            Nouvelle-Écosse    N.S.     N.-É.   \n",
       "NB                New Brunswick          Nouveau-Brunswick    N.B.     N.-B.   \n",
       "QC                       Quebec                     Québec    Que.        Qc   \n",
       "ON                      Ontario                    Ontario    Ont.      Ont.   \n",
       "MB                     Manitoba                   Manitoba    Man.      Man.   \n",
       "SK                 Saskatchewan               Saskatchewan   Sask.     Sask.   \n",
       "AB                      Alberta                    Alberta   Alta.      Alb.   \n",
       "BC             British Columbia       Colombie-Britannique    B.C.     C.-B.   \n",
       "YT                        Yukon                      Yukon    Y.T.        Yn   \n",
       "NT        Northwest Territories  Territoires du Nord-Ouest  N.W.T.   T.N.-O.   \n",
       "NU                      Nunavut                    Nunavut    Nvt.        Nt   \n",
       "\n",
       "      code_statcan code_iso cp_ab_pc  \n",
       "code                                  \n",
       "NL              10    CA-NL       NL  \n",
       "PE              11    CA-PE       PE  \n",
       "NS              12    CA-NS       NS  \n",
       "NB              13    CA-NB       NB  \n",
       "QC              24    CA-QC       QC  \n",
       "ON              35    CA-ON       ON  \n",
       "MB              46    CA-MB       MB  \n",
       "SK              47    CA-SK       SK  \n",
       "AB              48    CA-AB       AB  \n",
       "BC              59    CA-BC       BC  \n",
       "YT              60    CA-YT       YT  \n",
       "NT              61    CA-NT       NT  \n",
       "NU              62    CA-NU       NU  "
      ],
      "text/html": "<div>\n<style scoped>\n    .dataframe tbody tr th:only-of-type {\n        vertical-align: middle;\n    }\n\n    .dataframe tbody tr th {\n        vertical-align: top;\n    }\n\n    .dataframe thead th {\n        text-align: right;\n    }\n</style>\n<table border=\"1\" class=\"dataframe\">\n  <thead>\n    <tr style=\"text-align: right;\">\n      <th></th>\n      <th>nm_en</th>\n      <th>nm_fr</th>\n      <th>ab_en</th>\n      <th>ab_fr</th>\n      <th>code_statcan</th>\n      <th>code_iso</th>\n      <th>cp_ab_pc</th>\n    </tr>\n    <tr>\n      <th>code</th>\n      <th></th>\n      <th></th>\n      <th></th>\n      <th></th>\n      <th></th>\n      <th></th>\n      <th></th>\n    </tr>\n  </thead>\n  <tbody>\n    <tr>\n      <th>NL</th>\n      <td>Newfoundland and Labrador</td>\n      <td>Terre-Neuve-et-Labrador</td>\n      <td>N.L.</td>\n      <td>T.-N.-L.</td>\n      <td>10</td>\n      <td>CA-NL</td>\n      <td>NL</td>\n    </tr>\n    <tr>\n      <th>PE</th>\n      <td>Prince Edward Island</td>\n      <td>Île-du-Prince-Édouard</td>\n      <td>P.E.I.</td>\n      <td>Î.-P.-É.</td>\n      <td>11</td>\n      <td>CA-PE</td>\n      <td>PE</td>\n    </tr>\n    <tr>\n      <th>NS</th>\n      <td>Nova Scotia</td>\n      <td>Nouvelle-Écosse</td>\n      <td>N.S.</td>\n      <td>N.-É.</td>\n      <td>12</td>\n      <td>CA-NS</td>\n      <td>NS</td>\n    </tr>\n    <tr>\n      <th>NB</th>\n      <td>New Brunswick</td>\n      <td>Nouveau-Brunswick</td>\n      <td>N.B.</td>\n      <td>N.-B.</td>\n      <td>13</td>\n      <td>CA-NB</td>\n      <td>NB</td>\n    </tr>\n    <tr>\n      <th>QC</th>\n      <td>Quebec</td>\n      <td>Québec</td>\n      <td>Que.</td>\n      <td>Qc</td>\n      <td>24</td>\n      <td>CA-QC</td>\n      <td>QC</td>\n    </tr>\n    <tr>\n      <th>ON</th>\n      <td>Ontario</td>\n      <td>Ontario</td>\n      <td>Ont.</td>\n      <td>Ont.</td>\n      <td>35</td>\n      <td>CA-ON</td>\n      <td>ON</td>\n    </tr>\n    <tr>\n      <th>MB</th>\n      <td>Manitoba</td>\n      <td>Manitoba</td>\n      <td>Man.</td>\n      <td>Man.</td>\n      <td>46</td>\n      <td>CA-MB</td>\n      <td>MB</td>\n    </tr>\n    <tr>\n      <th>SK</th>\n      <td>Saskatchewan</td>\n      <td>Saskatchewan</td>\n      <td>Sask.</td>\n      <td>Sask.</td>\n      <td>47</td>\n      <td>CA-SK</td>\n      <td>SK</td>\n    </tr>\n    <tr>\n      <th>AB</th>\n      <td>Alberta</td>\n      <td>Alberta</td>\n      <td>Alta.</td>\n      <td>Alb.</td>\n      <td>48</td>\n      <td>CA-AB</td>\n      <td>AB</td>\n    </tr>\n    <tr>\n      <th>BC</th>\n      <td>British Columbia</td>\n      <td>Colombie-Britannique</td>\n      <td>B.C.</td>\n      <td>C.-B.</td>\n      <td>59</td>\n      <td>CA-BC</td>\n      <td>BC</td>\n    </tr>\n    <tr>\n      <th>YT</th>\n      <td>Yukon</td>\n      <td>Yukon</td>\n      <td>Y.T.</td>\n      <td>Yn</td>\n      <td>60</td>\n      <td>CA-YT</td>\n      <td>YT</td>\n    </tr>\n    <tr>\n      <th>NT</th>\n      <td>Northwest Territories</td>\n      <td>Territoires du Nord-Ouest</td>\n      <td>N.W.T.</td>\n      <td>T.N.-O.</td>\n      <td>61</td>\n      <td>CA-NT</td>\n      <td>NT</td>\n    </tr>\n    <tr>\n      <th>NU</th>\n      <td>Nunavut</td>\n      <td>Nunavut</td>\n      <td>Nvt.</td>\n      <td>Nt</td>\n      <td>62</td>\n      <td>CA-NU</td>\n      <td>NU</td>\n    </tr>\n  </tbody>\n</table>\n</div>"
     },
     "metadata": {},
     "execution_count": 2
    }
   ],
   "source": [
    "prov_crosswalk_df = pd.read_csv('tbs-prov-std/crosswalk-prov_terr-correspondance.csv') \\\n",
    "    .set_index('code')\n",
    "prov_df = prov_df.join(prov_crosswalk_df)\n",
    "prov_df"
   ]
  },
  {
   "cell_type": "code",
   "execution_count": null,
   "metadata": {},
   "outputs": [],
   "source": [
    "# load a dataset on murder rates. it has columns:\n",
    "#    geo_code StatCan province code.\n",
    "#    UOM unit of measure description\n",
    "#    value murder rate per 100k, with 2 decimal points (e.g. 1.71)\n",
    "murder_df = pd.read_csv('sample_dataset_homicides.csv')\n",
    "murder_df.columns = murder_df.columns.str.lower() # no need to SCREAM\n",
    "murder_df = murder_df.set_index('geo_code')\n",
    "report = murder_df.join(prov_df.set_index('code_statcan'))\n",
    "report[['nm_en','nm_fr','value','uom']]"
   ]
  }
 ]
}